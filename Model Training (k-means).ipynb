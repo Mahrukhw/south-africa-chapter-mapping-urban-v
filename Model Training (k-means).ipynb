{
 "cells": [
  {
   "cell_type": "markdown",
   "id": "facb0ad4",
   "metadata": {},
   "source": [
    "# Unsupervised Learning Using K-means Clustering\n",
    "Image Segmentation using k-means clustering"
   ]
  },
  {
   "cell_type": "code",
   "execution_count": 1,
   "id": "1ebfc98a",
   "metadata": {},
   "outputs": [
    {
     "name": "stdout",
     "output_type": "stream",
     "text": [
      "Requirement already satisfied: opencv-python in /Users/mahrukhwaqar/opt/anaconda3/lib/python3.9/site-packages (4.6.0.66)\n",
      "Requirement already satisfied: numpy in /Users/mahrukhwaqar/opt/anaconda3/lib/python3.9/site-packages (1.21.5)\n",
      "Requirement already satisfied: matplotlib in /Users/mahrukhwaqar/opt/anaconda3/lib/python3.9/site-packages (3.5.1)\n",
      "Requirement already satisfied: pyparsing>=2.2.1 in /Users/mahrukhwaqar/opt/anaconda3/lib/python3.9/site-packages (from matplotlib) (3.0.4)\n",
      "Requirement already satisfied: fonttools>=4.22.0 in /Users/mahrukhwaqar/opt/anaconda3/lib/python3.9/site-packages (from matplotlib) (4.25.0)\n",
      "Requirement already satisfied: pillow>=6.2.0 in /Users/mahrukhwaqar/opt/anaconda3/lib/python3.9/site-packages (from matplotlib) (9.3.0)\n",
      "Requirement already satisfied: cycler>=0.10 in /Users/mahrukhwaqar/opt/anaconda3/lib/python3.9/site-packages (from matplotlib) (0.11.0)\n",
      "Requirement already satisfied: python-dateutil>=2.7 in /Users/mahrukhwaqar/opt/anaconda3/lib/python3.9/site-packages (from matplotlib) (2.8.2)\n",
      "Requirement already satisfied: packaging>=20.0 in /Users/mahrukhwaqar/opt/anaconda3/lib/python3.9/site-packages (from matplotlib) (21.3)\n",
      "Requirement already satisfied: kiwisolver>=1.0.1 in /Users/mahrukhwaqar/opt/anaconda3/lib/python3.9/site-packages (from matplotlib) (1.3.2)\n",
      "Requirement already satisfied: six>=1.5 in /Users/mahrukhwaqar/opt/anaconda3/lib/python3.9/site-packages (from python-dateutil>=2.7->matplotlib) (1.16.0)\n"
     ]
    }
   ],
   "source": [
    "!pip3 install opencv-python numpy matplotlib"
   ]
  },
  {
   "cell_type": "code",
   "execution_count": 2,
   "id": "ddc634bc",
   "metadata": {},
   "outputs": [],
   "source": [
    "#importing the libraries\n",
    "import pandas as pd\n",
    "import matplotlib.pyplot as plt\n",
    "import cv2\n",
    "import numpy as np\n",
    "import os\n",
    "\n",
    "from sklearn.preprocessing import StandardScaler\n",
    "from sklearn.cluster import KMeans\n",
    "from sklearn.metrics import accuracy_score\n",
    "from sklearn.metrics import confusion_matrix\n"
   ]
  },
  {
   "cell_type": "code",
   "execution_count": 3,
   "id": "f0014a3b",
   "metadata": {},
   "outputs": [
    {
     "name": "stdout",
     "output_type": "stream",
     "text": [
      "/Users/mahrukhwaqar/SAChapter/CompleteData/\n"
     ]
    }
   ],
   "source": [
    "path= r\"/Users/mahrukhwaqar/SAChapter/CompleteData/\"\n",
    "print(path)"
   ]
  },
  {
   "cell_type": "code",
   "execution_count": 4,
   "id": "4cc484af",
   "metadata": {},
   "outputs": [],
   "source": [
    "data = []\n",
    "label = []\n",
    "c=0\n",
    "d=0\n",
    "image_size=300\n",
    "\n",
    "for file in os.listdir(path):\n",
    "    img=cv2.imread(path + file)\n",
    "    img=cv2.resize(img,(image_size,image_size))\n",
    "    img=img.astype('float32')\n",
    "    if file[:3]=='violent':\n",
    "        if c==500: continue\n",
    "        c+=1\n",
    "        label.append(\"violent\")\n",
    "    else:\n",
    "        if d==500: continue\n",
    "        d+=1\n",
    "        label.append(\"nonviolent\")\n",
    "    data.append(img)\n",
    "data = np.array(data)\n",
    "\n",
    "\n"
   ]
  },
  {
   "cell_type": "markdown",
   "id": "cc04e66e",
   "metadata": {},
   "source": [
    "# Prepocessing"
   ]
  },
  {
   "cell_type": "code",
   "execution_count": 5,
   "id": "9963b802",
   "metadata": {},
   "outputs": [],
   "source": [
    "#We have stored all labels in integer format to data_label.\n",
    "#Contents of data_label will be 0 and 1. 0 for the violent and 1 for the nonviolent.\n",
    "data_label = []\n",
    "for i in label:\n",
    "    if i==\"violent\": data_label.append(0)\n",
    "    else: data_label.append(1)\n",
    "data_label = np.array(data_label)"
   ]
  },
  {
   "cell_type": "code",
   "execution_count": 6,
   "id": "a635b713",
   "metadata": {},
   "outputs": [],
   "source": [
    "#With this step we have first normalized the values then we flattened each 300*300*3 image to 307 values. \n",
    "#This step is crucial because k-means does not accept data with more than 2 dimensions.\n",
    "#In reshaped_data contains 1000 images of 3072 sizes.\n",
    "\n",
    "data = data/255.0\n",
    "reshaped_data = data.reshape(len(data),-1)"
   ]
  },
  {
   "cell_type": "code",
   "execution_count": 7,
   "id": "a0456342",
   "metadata": {},
   "outputs": [
    {
     "data": {
      "text/plain": [
       "(500, 270000)"
      ]
     },
     "execution_count": 7,
     "metadata": {},
     "output_type": "execute_result"
    }
   ],
   "source": [
    "reshaped_data.shape"
   ]
  },
  {
   "cell_type": "markdown",
   "id": "1eae2aea",
   "metadata": {},
   "source": [
    "# STANDARD KMEANS\n"
   ]
  },
  {
   "cell_type": "code",
   "execution_count": 8,
   "id": "7625e0df",
   "metadata": {},
   "outputs": [
    {
     "data": {
      "text/plain": [
       "(2, 270000)"
      ]
     },
     "execution_count": 8,
     "metadata": {},
     "output_type": "execute_result"
    }
   ],
   "source": [
    "#standard code for k-means clustering defined in sklearn.\n",
    "#kmeans.cluster_centers_ contains 2 centroids with 3072 sizes.\n",
    "#These centroids may or may not lie on images from the dataset.\n",
    "kmeans = KMeans(n_clusters=2, random_state=0)\n",
    "clusters = kmeans.fit_predict(reshaped_data)\n",
    "kmeans.cluster_centers_.shape"
   ]
  },
  {
   "cell_type": "code",
   "execution_count": 9,
   "id": "05f51173",
   "metadata": {},
   "outputs": [
    {
     "data": {
      "text/plain": [
       "(2, 270000)"
      ]
     },
     "execution_count": 9,
     "metadata": {},
     "output_type": "execute_result"
    }
   ],
   "source": [
    "kmeans.cluster_centers_.shape"
   ]
  },
  {
   "cell_type": "markdown",
   "id": "a04a14e9",
   "metadata": {},
   "source": [
    "# SCATTER PLOT OF CENTROIDS"
   ]
  },
  {
   "cell_type": "code",
   "execution_count": 10,
   "id": "1c14df15",
   "metadata": {},
   "outputs": [
    {
     "data": {
      "text/plain": [
       "<matplotlib.collections.PathCollection at 0x7fa3b8435d90>"
      ]
     },
     "execution_count": 10,
     "metadata": {},
     "output_type": "execute_result"
    },
    {
     "data": {
      "image/png": "[encoded data removed]",
      "text/plain": [
       "<Figure size 432x288 with 1 Axes>"
      ]
     },
     "metadata": {
      "needs_background": "light"
     },
     "output_type": "display_data"
    }
   ],
   "source": [
    "x_data = [i for i in range(270000)]\n",
    "plt.scatter(x_data,kmeans.cluster_centers_[0], color = 'red',alpha=0.2,s=70)\n",
    "plt.scatter(x_data,kmeans.cluster_centers_[1] , color = 'blue',alpha=0.2,s=50)"
   ]
  },
  {
   "cell_type": "markdown",
   "id": "e0d9b90b",
   "metadata": {},
   "source": [
    "This shows that K-Means will be confused while classification. The best value is where they both are completely separated. We have used the x-axis of 270000 because that is the size of our image. And plotted image value in the y-axis."
   ]
  },
  {
   "cell_type": "markdown",
   "id": "cd36f2e5",
   "metadata": {},
   "source": [
    "# MAPPING THE LABELS"
   ]
  },
  {
   "cell_type": "code",
   "execution_count": 11,
   "id": "4d93e5dd",
   "metadata": {},
   "outputs": [],
   "source": [
    "# mapping labels from cluster to original labels\n",
    "def get_reference_dict(clusters,data_label):\n",
    "    reference_label = {}\n",
    "    # For loop to run through each label of cluster label\n",
    "    for i in range(len(np.unique(clusters))):\n",
    "        index = np.where(clusters == i,1,0)\n",
    "        num = np.bincount(data_label[index==1]).argmax()\n",
    "        reference_label[i] = num\n",
    "    return reference_label\n",
    "# Mapping predictions to original labels\n",
    "def get_labels(clusters,refernce_labels):\n",
    "    temp_labels = np.random.rand(len(clusters))\n",
    "    for i in range(len(clusters)):\n",
    "        temp_labels[i] = reference_labels[clusters[i]]\n",
    "    return temp_labels"
   ]
  },
  {
   "cell_type": "markdown",
   "id": "b7e3c0ed",
   "metadata": {},
   "source": [
    "K-Means do not have any information about the labels of our actual dataset as it works by randomly picking up points and assigning clusters. So we need to map the points such that they match the real labels. get_reference_dict maps the clusters to the original data label while get_labels maps the referenced labels with the predicted values."
   ]
  },
  {
   "cell_type": "markdown",
   "id": "0be0eeb7",
   "metadata": {},
   "source": [
    "checking the accuracy of our model."
   ]
  },
  {
   "cell_type": "code",
   "execution_count": 12,
   "id": "ba56f83a",
   "metadata": {},
   "outputs": [
    {
     "name": "stdout",
     "output_type": "stream",
     "text": [
      "1.0\n"
     ]
    }
   ],
   "source": [
    "reference_labels = get_reference_dict(clusters,data_label)\n",
    "predicted_labels = get_labels(clusters,reference_labels)\n",
    "print(accuracy_score(predicted_labels,data_label))"
   ]
  },
  {
   "cell_type": "markdown",
   "id": "87856d77",
   "metadata": {},
   "source": [
    "# ELBOW METHOD"
   ]
  },
  {
   "cell_type": "code",
   "execution_count": 13,
   "id": "a7d6cce5",
   "metadata": {},
   "outputs": [
    {
     "name": "stdout",
     "output_type": "stream",
     "text": [
      "Accuracy for k = 2:  1.0\n",
      "Accuracy for k = 16:  1.0\n",
      "Accuracy for k = 64:  1.0\n",
      "Accuracy for k = 100:  1.0\n",
      "Accuracy for k = 256:  1.0\n"
     ]
    },
    {
     "data": {
      "image/png": "[encoded data removed]",
      "text/plain": [
       "<Figure size 432x432 with 1 Axes>"
      ]
     },
     "metadata": {
      "needs_background": "light"
     },
     "output_type": "display_data"
    }
   ],
   "source": [
    "sse = []\n",
    "list_k = [2,16,64,100,256]\n",
    "for k in list_k:\n",
    "    km = KMeans(n_clusters=k)\n",
    "    clusters = km.fit_predict(reshaped_data)\n",
    "    sse.append(km.inertia_)\n",
    "    reference_labels = get_reference_dict(clusters,data_label)\n",
    "    predicted_labels = get_labels(clusters,reference_labels)\n",
    "    print(f\"Accuracy for k = {k}: \", accuracy_score(predicted_labels,data_label))\n",
    "# Plot sse against k\n",
    "plt.figure(figsize=(6, 6))\n",
    "plt.plot(list_k, sse, '-o')\n",
    "plt.xlabel(r'Number of clusters *k*')\n",
    "plt.ylabel('Sum of squared distance');"
   ]
  },
  {
   "cell_type": "markdown",
   "id": "15f1d740",
   "metadata": {},
   "source": [
    "# Transfer Learning"
   ]
  },
  {
   "cell_type": "code",
   "execution_count": null,
   "id": "3637ca23",
   "metadata": {},
   "outputs": [],
   "source": [
    "#importing libraries\n",
    "from keras.applications.resnet50 import preprocess_input\n",
    "from keras.preprocessing import image\n",
    "import keras\n"
   ]
  },
  {
   "cell_type": "code",
   "execution_count": null,
   "id": "542d1401",
   "metadata": {},
   "outputs": [],
   "source": [
    "#MODEL\n",
    "#For Transfer Learning Model we are using ResNet50 with ‘imagenet’ weights because of its simplicity.\n",
    "#You can use any model for example VGG16, VGG19, DenseNet whichever you feel like.\n",
    "\n"
   ]
  },
  {
   "cell_type": "code",
   "execution_count": null,
   "id": "d970d587",
   "metadata": {},
   "outputs": [],
   "source": [
    "model =   keras.applications.ResNet50(weights='imagenet', include_top=False, input_shape=(IMG_SIZE, IMG_SIZE,3))\n"
   ]
  },
  {
   "cell_type": "markdown",
   "id": "b038b7c9",
   "metadata": {},
   "source": [
    "# FEATURE EXTRACTION"
   ]
  },
  {
   "cell_type": "code",
   "execution_count": null,
   "id": "49d37201",
   "metadata": {},
   "outputs": [],
   "source": [
    "def extract_vector(data_holder):\n",
    "\n",
    "    resnet_feature_list = []\n",
    "\n",
    "    for im in data_holder:\n",
    "\n",
    "        im = image.img_to_array(im) \n",
    "\n",
    "        img = preprocess_input(np.expand_dims(im.copy(), axis=0))\n",
    "\n",
    "        resnet_feature = model.predict(img)\n",
    "\n",
    "        resnet_feature_np = np.array(resnet_feature)\n",
    "\n",
    "        resnet_feature_list.append(resnet_feature_np.flatten())"
   ]
  },
  {
   "cell_type": "code",
   "execution_count": null,
   "id": "bbe4e283",
   "metadata": {},
   "outputs": [],
   "source": [
    "return np.array(resnet_feature_list)"
   ]
  },
  {
   "cell_type": "markdown",
   "id": "d858e983",
   "metadata": {},
   "source": [
    "# KMEANS MODIFIED"
   ]
  },
  {
   "cell_type": "code",
   "execution_count": null,
   "id": "4bc41326",
   "metadata": {},
   "outputs": [],
   "source": [
    "array = extract_vector(data)\n",
    "kmeans = KMeans(n_clusters=2, random_state=0)\n",
    "clusters = kmeans.fit_predict(array)"
   ]
  },
  {
   "cell_type": "code",
   "execution_count": null,
   "id": "29355528",
   "metadata": {},
   "outputs": [],
   "source": [
    "kmeans.cluster_centers.shape"
   ]
  }
 ],
 "metadata": {
  "kernelspec": {
   "display_name": "Python 3 (ipykernel)",
   "language": "python",
   "name": "python3"
  },
  "language_info": {
   "codemirror_mode": {
    "name": "ipython",
    "version": 3
   },
   "file_extension": ".py",
   "mimetype": "text/x-python",
   "name": "python",
   "nbconvert_exporter": "python",
   "pygments_lexer": "ipython3",
   "version": "3.9.12"
  }
 },
 "nbformat": 4,
 "nbformat_minor": 5
}
