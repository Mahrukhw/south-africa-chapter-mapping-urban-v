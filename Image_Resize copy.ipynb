{
 "cells": [
  {
   "cell_type": "markdown",
   "metadata": {
    "id": "5L7qzII5ZcZ6"
   },
   "source": [
    "### Program to Resize Images. Please input the Source Path and Resizing Shape ###"
   ]
  },
  {
   "cell_type": "code",
   "execution_count": 1,
   "metadata": {},
   "outputs": [],
   "source": [
    "# Importing Modules and Libraries \n",
    "from os import listdir\n",
    "from PIL import Image\n",
    "import numpy as np\n",
    "import os\n",
    "import glob"
   ]
  },
  {
   "cell_type": "code",
   "execution_count": 2,
   "metadata": {},
   "outputs": [],
   "source": [
    "#image_path = f\"../input/barkvn50/BarkVN-50/BarkVN-50_mendeley\" # save the image path to a variable\n",
    "#categories = glob(image_path+'/*')"
   ]
  },
  {
   "cell_type": "code",
   "execution_count": 3,
   "metadata": {},
   "outputs": [
    {
     "name": "stdout",
     "output_type": "stream",
     "text": [
      "./NaturalDisaster/\n"
     ]
    }
   ],
   "source": [
    "# Provide Source Path\n",
    "# Don't forget to copy the Original Files in the Folder Before Resizing\n",
    "#work_dir = os.getcwd()\n",
    "#print(work_dir)\n",
    "source_path = r\"./NaturalDisaster/\" # save the image path to a variable\n",
    "print(source_path)"
   ]
  },
  {
   "cell_type": "code",
   "execution_count": 4,
   "metadata": {},
   "outputs": [
    {
     "name": "stdout",
     "output_type": "stream",
     "text": [
      "0.jpg      14.jpg     2.jpg      24.jpg     3.jpg      4.jpg      9.jpg\r\n",
      "1.jpg      15.jpg     20 (1).jpg 25.jpg     30.jpg     5.jpg\r\n",
      "10.jpg     16.jpg     20.jpg     26.jpg     31.jpg     6.jpg\r\n",
      "11.jpg     17.jpg     21.jpg     27.jpg     32.jpg     7.jpg\r\n",
      "12.jpg     18.jpg     22.jpg     28.jpg     33.jpg     8.jpg\r\n",
      "13.jpg     19.jpg     23.jpg     29.jpg     34.jpg     9 (1).jpg\r\n"
     ]
    }
   ],
   "source": [
    "! ls NaturalDisaster"
   ]
  },
  {
   "cell_type": "code",
   "execution_count": 5,
   "metadata": {},
   "outputs": [
    {
     "name": "stdout",
     "output_type": "stream",
     "text": [
      "/Users/mahrukhwaqar/SAChapter\r\n"
     ]
    }
   ],
   "source": [
    "! pwd"
   ]
  },
  {
   "cell_type": "code",
   "execution_count": 7,
   "metadata": {
    "colab": {
     "base_uri": "https://localhost:8080/",
     "height": 276
    },
    "id": "K2mjYx-4ZVE_",
    "outputId": "7893a99f-24a8-433c-d8dc-815d2e543bf8"
   },
   "outputs": [
    {
     "name": "stdout",
     "output_type": "stream",
     "text": [
      "All images have been resized to (300 x 300)\n",
      "Shape of Each Image is (300, 300, 3)\n",
      "Shape of Final Numpy Array is (37, 300, 300, 3)\n",
      "Resizing Completed. Total Resized Pictures:37\n"
     ]
    }
   ],
   "source": [
    "\n",
    "\n",
    "# Provide Required Shape in the Form of Tuple\n",
    "shape = (300, 300)\n",
    "\n",
    "# Images to be Saved in the Form of Array\n",
    "array_list = []\n",
    "\n",
    "# Creating a list of files present in the Source Path\n",
    "folder = listdir(source_path)\n",
    "\n",
    "# Following will Resize, Convert to Gray-scale and Save Images\n",
    "for each_pic in folder:\n",
    "    file = source_path + each_pic\n",
    "    pic = Image.open(file)\n",
    "    img_resized = pic.resize(shape)\n",
    "    \n",
    "    # If Images to be Converted to Gray-Scale, Enable the Following Line\n",
    "    #img_resized = img_resized.convert(mode='L')\n",
    "    \n",
    "    # Saving Images \n",
    "    img_resized = img_resized.save(file)\n",
    "    \n",
    "# Converting Images to Numpy Array\n",
    "for new_pic in folder:\n",
    "    new_file = source_path + new_pic\n",
    "    pics_to_array = np.array(Image.open(new_file))\n",
    "    array_list.append(pics_to_array)\n",
    "\n",
    "# Converting to Final Array\n",
    "final_array = np.array(array_list) \n",
    "\n",
    "# Report the Process\n",
    "print(\"All images have been resized to ({} x {})\".format(shape[0], shape[1]))\n",
    "\n",
    "#print(\"All Images have been Gray-scaled\")\n",
    "#print(pics_to_array.shape)\n",
    "\n",
    "# Show Shape Information of Each Converted Image\n",
    "print(\"Shape of Each Image is {}\".format(pics_to_array.shape))\n",
    "\n",
    "# Print the Shape of Final Array\n",
    "print(\"Shape of Final Numpy Array is {}\".format(final_array.shape))\n",
    "print(\"Resizing Completed. Total Resized Pictures:{}\".format(final_array.shape[0]))"
   ]
  },
  {
   "cell_type": "code",
   "execution_count": null,
   "metadata": {},
   "outputs": [],
   "source": []
  }
 ],
 "metadata": {
  "colab": {
   "provenance": []
  },
  "kernelspec": {
   "display_name": "Python 3 (ipykernel)",
   "language": "python",
   "name": "python3"
  },
  "language_info": {
   "codemirror_mode": {
    "name": "ipython",
    "version": 3
   },
   "file_extension": ".py",
   "mimetype": "text/x-python",
   "name": "python",
   "nbconvert_exporter": "python",
   "pygments_lexer": "ipython3",
   "version": "3.9.12"
  }
 },
 "nbformat": 4,
 "nbformat_minor": 1
}
